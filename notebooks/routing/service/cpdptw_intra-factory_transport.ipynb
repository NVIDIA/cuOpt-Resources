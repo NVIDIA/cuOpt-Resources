{
 "cells": [
  {
   "cell_type": "markdown",
   "id": "618d2d41",
   "metadata": {},
   "source": [
    "<details><summary> </summary>\n",
    "\n",
    "# Skip notebook test\n",
    "\n",
    "</details>"
   ]
  },
  {
   "cell_type": "code",
   "execution_count": null,
   "id": "e57c9739",
   "metadata": {},
   "outputs": [],
   "source": [
    "import os\n",
    "import pandas as pd\n",
    "import notebook_utils.notebook_helpers as utils\n",
    "from cuopt_thin_client import CuOptServiceClient"
   ]
  },
  {
   "cell_type": "markdown",
   "id": "9326712e",
   "metadata": {},
   "source": [
    "# Intra-factory Transport\n",
    "## Capacitated Pickup and Delivery Problem with Time Windows"
   ]
  },
  {
   "cell_type": "markdown",
   "id": "382afbd9",
   "metadata": {},
   "source": [
    "Factory automation allows companies to raise the quality and consistency of manufacturing processes while also allowing human workers to focus on safer, less repetitive tasks that have higher cognitive and creative demands.\n",
    "\n",
    "In this scenario we have a set of intra-factory transport orders to move products at various stages in the assembly process from one processing station to another. Each station represents a particular type of manufacturing process and a given product may need to visit each processing station more than once. Multiple autonomous mobile robots (AMRs) with a fixed capacity will execute pickup and delivery orders between target locations, all with corresponding time_windows."
   ]
  },
  {
   "cell_type": "markdown",
   "id": "c3bc4ad4",
   "metadata": {},
   "source": [
    "### Problem Details:\n",
    "- 4 Locations each with an associated demand\n",
    "    - 1 Start Location for AMRs\n",
    "\n",
    "    - 3 Process Stations\n",
    "\n",
    "- 3 AMRs with associated capacity"
   ]
  },
  {
   "cell_type": "markdown",
   "id": "e6090764",
   "metadata": {},
   "source": [
    "- Hours of operation"
   ]
  },
  {
   "cell_type": "code",
   "execution_count": null,
   "id": "5d12f05d",
   "metadata": {},
   "outputs": [],
   "source": [
    "factory_open_time = 0\n",
    "factory_close_time = 100"
   ]
  },
  {
   "cell_type": "markdown",
   "id": "32c76994",
   "metadata": {},
   "source": [
    "# Initialize cuOpt Service Client and cuOpt Problem Data"
   ]
  },
  {
   "cell_type": "code",
   "execution_count": null,
   "id": "2c1316c4",
   "metadata": {},
   "outputs": [],
   "source": [
    "cuopt_client_id = os.environ[\"CUOPT_CLIENT_ID\"]\n",
    "cuopt_client_secret = os.environ[\"CUOPT_CLIENT_SECRET\"]\n",
    "\n",
    "\n",
    "cuopt_service_client = CuOptServiceClient(\n",
    "    client_id=cuopt_client_id,\n",
    "    client_secret=cuopt_client_secret,\n",
    "    )\n",
    "\n",
    "cuopt_problem_data = {}"
   ]
  },
  {
   "cell_type": "markdown",
   "id": "e67a05ed",
   "metadata": {},
   "source": [
    "![waypoint_graph.png not found](./notebook_utils/images/waypoint_graph.png \"Waypoint Graph\")"
   ]
  },
  {
   "cell_type": "markdown",
   "id": "c89d0f91",
   "metadata": {},
   "source": [
    "### Set location names"
   ]
  },
  {
   "cell_type": "code",
   "execution_count": null,
   "id": "0828c9c7",
   "metadata": {},
   "outputs": [],
   "source": [
    "location_names = [\"0\", \"1\", \"2\", \"3\", \"4\", \"5\", \"6\", \"7\", \"8\", \"9\"]"
   ]
  },
  {
   "cell_type": "markdown",
   "id": "d90ba90d",
   "metadata": {},
   "source": [
    "### Waypoint Graph"
   ]
  },
  {
   "cell_type": "markdown",
   "id": "6febdb57",
   "metadata": {},
   "source": [
    "#### Compressed Sparse Row (CSR) representation of above weighted waypoint graph.\n",
    "For details on the CSR encoding of the above graph see the [cost_matrix_and_waypoint_graph_creation.ipynb](cost_matrix_and_waypoint_graph_creation.ipynb) notebook."
   ]
  },
  {
   "cell_type": "code",
   "execution_count": null,
   "id": "2c824c99",
   "metadata": {},
   "outputs": [],
   "source": [
    "offsets = [0, 1, 3, 7, 9, 11, 13, 15, 17, 20, 22]\n",
    "edges =   [2, 2, 4, 0, 1, 3, 5, 2, 6, 1, 7, 2, 8, 3, 9, 4, 8, 5, 7, 9, 6, 8]\n",
    "weights = [2, 2, 2, 2, 2, 2, 2, 2, 2, 2, 1, 2, 1, 2, 1, 1, 2, 1, 2, 2, 1, 2]"
   ]
  },
  {
   "cell_type": "markdown",
   "id": "dbfcfa33",
   "metadata": {},
   "source": [
    "#### Select specific waypoints in the graph as target locations\n",
    "In this case we would like the AMRs to begin from waypoint 0 and service locations 4, 5, and 6."
   ]
  },
  {
   "cell_type": "code",
   "execution_count": null,
   "id": "4e08f664",
   "metadata": {},
   "outputs": [],
   "source": [
    "# Setup service locations\n",
    "target_locations       = [0, 4, 5, 6]"
   ]
  },
  {
   "cell_type": "markdown",
   "id": "4f11fdb2",
   "metadata": {},
   "source": [
    "### Transport Orders\n",
    "Setup Transport Order Data\n",
    "\n",
    "The transport orders dictate the movement of parts from one area of the factory to another.  In this example nodes 4, 5, and 6 represent the processing stations that parts must travel between and deliveries to node 0 represent the movement of parts off the factory floor."
   ]
  },
  {
   "cell_type": "code",
   "execution_count": null,
   "id": "12c3c595",
   "metadata": {},
   "outputs": [],
   "source": [
    "transport_order_data = pd.DataFrame({\n",
    "    \"pickup_location\":       [4,  5,  6,  6,  5,  4],\n",
    "    \"delivery_location\":     [5,  6,  0,  5,  4,  0],\n",
    "    \"order_demand\":          [1,  1,  1,  1,  1,  1],\n",
    "    \"earliest_pickup\":       [0,  0,  0,  0,  0,  0],\n",
    "    \"latest_pickup\":         [10, 20, 30, 10, 20, 30],\n",
    "    \"pickup_service_time\":   [2,  2,  2,  2,  2,  2],\n",
    "    \"earliest_delivery\":     [0,  0,  0,  0,  0,  0],\n",
    "    \"latest_delivery\":       [45, 45, 45, 45, 45, 45],\n",
    "    \"delivery_service_time\": [2,  2,  2,  2,  2,  2]\n",
    "})\n",
    "transport_order_data"
   ]
  },
  {
   "cell_type": "markdown",
   "id": "7af883ad",
   "metadata": {},
   "source": [
    "### Set Waypoint Graph"
   ]
  },
  {
   "cell_type": "markdown",
   "id": "52bdc1d0",
   "metadata": {},
   "source": [
    "cuOpt will use this waypoint graph along with task locations and vehicle locations to determine cost matrix internally from one location to another. "
   ]
  },
  {
   "cell_type": "code",
   "execution_count": null,
   "id": "9975bf1a",
   "metadata": {},
   "outputs": [],
   "source": [
    "graph_data = {\n",
    "    \"edges\": edges,\n",
    "    \"offsets\": offsets,\n",
    "    \"weights\": weights,\n",
    "}\n",
    "\n",
    "cuopt_problem_data[\"cost_waypoint_graph_data\"] = {\n",
    "        \"waypoint_graph\": {\n",
    "            \"0\": graph_data\n",
    "        }\n",
    "    }"
   ]
  },
  {
   "cell_type": "markdown",
   "id": "1644ce90",
   "metadata": {},
   "source": [
    "### Set Order/Task data\n"
   ]
  },
  {
   "cell_type": "markdown",
   "id": "449ec36b",
   "metadata": {},
   "source": [
    "#### Process Order locations\n",
    "\n",
    "Order locations, pickup and delivery pairs are processed and created to be digested bu cuOpt"
   ]
  },
  {
   "cell_type": "code",
   "execution_count": null,
   "id": "1440c936",
   "metadata": {},
   "outputs": [],
   "source": [
    "cuopt_problem_data[\"task_data\"] = {}\n",
    "pickup_order_locations = transport_order_data['pickup_location']\n",
    "delivery_order_locations = transport_order_data['delivery_location']\n",
    "order_locations = pd.concat([pickup_order_locations, delivery_order_locations], ignore_index=True)\n",
    "\n",
    "cuopt_problem_data[\"task_data\"][\"task_locations\"] = order_locations.to_list()\n",
    "print(order_locations)"
   ]
  },
  {
   "cell_type": "markdown",
   "id": "a0c838b6",
   "metadata": {},
   "source": [
    "\n",
    "#### Process demand data\n",
    "\n",
    "From the perspective of the cuOpt solver_settings, each distinct transaction (pickup order or delivery order) are treated separately with demand for pickup denoted as positive and the corresponding delivery treated as negative demand."
   ]
  },
  {
   "cell_type": "code",
   "execution_count": null,
   "id": "86be7280",
   "metadata": {},
   "outputs": [],
   "source": [
    "# This is the number of parts that needs to be moved\n",
    "raw_demand = transport_order_data[\"order_demand\"]\n",
    "\n",
    "# When dropping off parts we want to remove one unit of demand from the robot\n",
    "drop_off_demand = raw_demand * -1\n",
    "\n",
    "# Create pickup and delivery demand\n",
    "order_demand = pd.concat([raw_demand, drop_off_demand], ignore_index=True)\n",
    "\n",
    "# Add demand to the task data\n",
    "cuopt_problem_data[\"task_data\"][\"demand\"] = [order_demand.to_list()]\n",
    "print(order_demand)"
   ]
  },
  {
   "cell_type": "markdown",
   "id": "a1f03f4c",
   "metadata": {},
   "source": [
    "#### Process task time windows"
   ]
  },
  {
   "cell_type": "code",
   "execution_count": null,
   "id": "2b1a0b1d",
   "metadata": {},
   "outputs": [],
   "source": [
    "# create earliest times\n",
    "order_time_window_earliest = pd.concat([transport_order_data[\"earliest_pickup\"], transport_order_data[\"earliest_delivery\"]], ignore_index=True)\n",
    "\n",
    "# create latest times\n",
    "order_time_window_latest = pd.concat([transport_order_data[\"latest_pickup\"], transport_order_data[\"latest_delivery\"]], ignore_index=True)\n",
    "\n",
    "# create service times\n",
    "order_service_time = pd.concat([transport_order_data[\"pickup_service_time\"],transport_order_data[\"delivery_service_time\"]], ignore_index=True)\n",
    "\n",
    "# add time window constraints\n",
    "cuopt_problem_data[\"task_data\"][\"task_time_windows\"] = list(zip(order_time_window_earliest.to_list(),\n",
    "                                                                order_time_window_latest.to_list()))\n",
    "cuopt_problem_data[\"task_data\"][\"service_times\"] = order_service_time.to_list()"
   ]
  },
  {
   "cell_type": "markdown",
   "id": "200614ab",
   "metadata": {},
   "source": [
    "#### Mapping pickups to deliveries"
   ]
  },
  {
   "cell_type": "code",
   "execution_count": null,
   "id": "32272d7b",
   "metadata": {},
   "outputs": [],
   "source": [
    "# IMPORTANT NOTE : pickup and delivery pairs are indexed into the order locations array.\n",
    "npair_orders = int(len(order_locations)/2)\n",
    "pickup_order_ids = pd.Series([i for i in range(npair_orders)])\n",
    "delivery_order_ids = pd.Series([i + npair_orders for i in range(npair_orders)])\n",
    "\n",
    "# add pickup and delivery pairs.\n",
    "cuopt_problem_data[\"task_data\"][\"pickup_and_delivery_pairs\"] = list(zip(pickup_order_ids.to_list(),\n",
    "                                                                        delivery_order_ids.to_list()))"
   ]
  },
  {
   "cell_type": "markdown",
   "id": "31db9053",
   "metadata": {},
   "source": [
    "### Set AMR data"
   ]
  },
  {
   "cell_type": "markdown",
   "id": "731fdcbe",
   "metadata": {},
   "source": [
    "Accumulate AMR fleet data such as its start and end locations, capacity, break/charging times and other details that relate to a vehicle."
   ]
  },
  {
   "cell_type": "code",
   "execution_count": null,
   "id": "2e765325",
   "metadata": {},
   "outputs": [],
   "source": [
    "n_robots = 2\n",
    "cuopt_problem_data[\"fleet_data\"] = {}\n",
    "\n",
    "# Add start and end locations for AMRs, assuming all AMRs start and end at location 0.\n",
    "cuopt_problem_data[\"fleet_data\"][\"vehicle_locations\"] = [[0, 0]] * n_robots\n",
    "\n",
    "# Add carrying capacity for AMRs, assuming all robots have capacity of 2,\n",
    "# means, they can carry at the max two items at any point\n",
    "cuopt_problem_data[\"fleet_data\"][\"capacities\"] = [[2] * n_robots]\n",
    "\n",
    "cuopt_problem_data[\"fleet_data\"][\"vehicle_time_windows\"] = [[factory_open_time, factory_close_time]] * n_robots\n"
   ]
  },
  {
   "cell_type": "markdown",
   "id": "b0d06888",
   "metadata": {},
   "source": [
    "### Set Solver Settings"
   ]
  },
  {
   "cell_type": "code",
   "execution_count": null,
   "id": "a6babc11",
   "metadata": {
    "scrolled": true
   },
   "outputs": [],
   "source": [
    "cuopt_problem_data[\"solver_config\"] = {\n",
    "        \"time_limit\": 5\n",
    "    }"
   ]
  },
  {
   "cell_type": "markdown",
   "id": "854e9519",
   "metadata": {},
   "source": [
    "### Get optimized route"
   ]
  },
  {
   "cell_type": "code",
   "execution_count": null,
   "id": "28a05ace",
   "metadata": {},
   "outputs": [],
   "source": [
    "# Solve the problem\n",
    "solver_response = cuopt_service_client.get_optimized_routes(\n",
    "    cuopt_problem_data\n",
    ")\n",
    "\n",
    "# Process returned data\n",
    "solver_resp = solver_response[\"response\"][\"solver_response\"]\n",
    "\n",
    "if solver_resp[\"status\"] == 0:\n",
    "    print(\"Cost for the routing in time: \", solver_resp[\"solution_cost\"])\n",
    "    print(\"Vehicle count to complete routing: \", solver_resp[\"num_vehicles\"])\n",
    "    utils.show_vehicle_routes(solver_resp, location_names)\n",
    "else:\n",
    "    print(\"NVIDIA cuOpt Failed to find a solution with status : \", solver_resp[\"status\"])"
   ]
  },
  {
   "cell_type": "markdown",
   "id": "bba4accd",
   "metadata": {},
   "source": [
    "#### Waypoint level routes for AMRs"
   ]
  },
  {
   "cell_type": "code",
   "execution_count": null,
   "id": "c13cfbf3",
   "metadata": {
    "scrolled": true
   },
   "outputs": [],
   "source": [
    "solver_resp_df = utils.get_solution_df(solver_resp)\n",
    "unique_robot_ids = solver_resp_df['truck_id'].unique()\n",
    "all_routes = solver_resp_df\n",
    "\n",
    "for robot in unique_robot_ids:\n",
    "    route = all_routes[all_routes['truck_id']==robot]\n",
    "    unique_target_locs = all_routes[all_routes['truck_id']==robot]['route'].unique()\n",
    "    \n",
    "    print(f\"Waypoint level route for robot {robot}:\\n{all_routes[all_routes['truck_id']==robot]['route']}\\n\\n\")"
   ]
  }
 ],
 "metadata": {
  "kernelspec": {
   "display_name": "Python 3 (ipykernel)",
   "language": "python",
   "name": "python3"
  },
  "language_info": {
   "codemirror_mode": {
    "name": "ipython",
    "version": 3
   },
   "file_extension": ".py",
   "mimetype": "text/x-python",
   "name": "python",
   "nbconvert_exporter": "python",
   "pygments_lexer": "ipython3",
   "version": "3.10.12"
  },
  "vscode": {
   "interpreter": {
    "hash": "0f29e496949dc4ef652a1afa2d601ce2913fc84758b70efb060a954cb0e2d83f"
   }
  }
 },
 "nbformat": 4,
 "nbformat_minor": 5
}
