{
 "cells": [
  {
   "cell_type": "markdown",
   "id": "2ba8b3e8",
   "metadata": {},
   "source": [
    "<details><summary> </summary>\n",
    "\n",
    "# Skip notebook test\n",
    "\n",
    "</details>"
   ]
  },
  {
   "cell_type": "code",
   "execution_count": null,
   "id": "5b9e9840",
   "metadata": {},
   "outputs": [],
   "source": [
    "import os\n",
    "import pandas as pd\n",
    "import notebook_utils.notebook_helpers as utils\n",
    "from cuopt_thin_client import CuOptServiceClient"
   ]
  },
  {
   "cell_type": "markdown",
   "id": "ba50d71a",
   "metadata": {},
   "source": [
    "# Daily Deliveries\n",
    "## Capacitated Vehicle Routing Problem (CVRP)"
   ]
  },
  {
   "cell_type": "markdown",
   "id": "3ec34cd8",
   "metadata": {},
   "source": [
    "Micro fulfillment centers allow retailers to move predictable, high volume products closer to the end consumer allowing for lower costs and shorter overall delivery times.\n",
    "\n",
    "In this scenario we have a number of same-day delivery orders that we would like to process for a given area from a given micro fulfillment center. We have the requisite number of delivery vehicles and enough time to deliver all packages over the course of a single day. Each delivery vehicle has a maximum capacity of orders  it can carry and we are looking for the route assignment that minimizes the total distance driven by all vehicles."
   ]
  },
  {
   "cell_type": "markdown",
   "id": "4fc9ef31",
   "metadata": {},
   "source": [
    "### Problem Details:\n",
    "- 8 Locations each with an associated demand\n",
    "    - 1 MFC \n",
    "        - demand: [0]\n",
    "    - 7 Delivery Locations\n",
    "        - demand: [4, 4, 2, 2, 1, 2, 1]\n",
    "    \n",
    "\n",
    "- 3 Delivery vehicles each with an associated capacity\n",
    "    - 2 trucks\n",
    "        - capacity: [8, 8]\n",
    "    - 1 van\n",
    "        - capacity: [4]\n",
    "        "
   ]
  },
  {
   "cell_type": "markdown",
   "id": "ed3c2736",
   "metadata": {},
   "source": [
    "Below we visualize the delivery locations with respect to the MFC.  The cost from all locations to all other locations (a cost matrix) will be required for optimization. To see an example of cost matrix generation from map data or a waypoint graph, refer to the [cost_matrix_creation.ipynb](cost_matrix_creation.ipynb) notebook.  For the purpose of this simple example we will omit the cost matrix calculation."
   ]
  },
  {
   "cell_type": "code",
   "execution_count": null,
   "id": "01b12b30",
   "metadata": {},
   "outputs": [],
   "source": [
    "location_names       = [ \"MFC\",     \"A\",    \"B\",    \"C\",    \"D\",    \"E\",    \"F\",    \"G\"  ]\n",
    "location_coordinates = [ [4, 4],    [1, 3], [8, 1], [2, 1], [6, 7], [0, 2], [7, 6], [5, 3] ]\n",
    "location_coordinates_df = pd.DataFrame(location_coordinates, columns=['xcord', 'ycord'], index=location_names)\n",
    "utils.gen_plot(location_coordinates_df).show()"
   ]
  },
  {
   "cell_type": "markdown",
   "id": "42ba94fb",
   "metadata": {},
   "source": [
    "### Cost Matrix"
   ]
  },
  {
   "cell_type": "markdown",
   "id": "82edd816",
   "metadata": {},
   "source": [
    "The cost matrix dictates the cost of travel between locations of interest.  The cost itself can be anything relevant to the user.  In this case we simply use distance as our cost.\n",
    "\n",
    "Here is the cost(distance) matrix corresponding to the above locations:"
   ]
  },
  {
   "cell_type": "code",
   "execution_count": null,
   "id": "bfa64aee",
   "metadata": {},
   "outputs": [],
   "source": [
    "distance_matrix = [\n",
    "    [0.0, 3.1, 5.0, 3.6, 3.6, 4.5, 3.6, 1.4],\n",
    "    [3.1, 0.0, 7.3, 2.2, 6.4, 1.4, 6.7, 4.0],\n",
    "    [5.0, 7.3, 0.0, 6.0, 6.3, 8.1, 5.1, 3.6],\n",
    "    [3.6, 2.2, 6.0, 0.0, 7.2, 2.2, 7.1, 3.6],\n",
    "    [3.6, 6.4, 6.3, 7.2, 0.0, 7.8, 1.4, 4.1],\n",
    "    [4.5, 1.4, 8.1, 2.2, 7.8, 0.0, 8.1, 5.1],\n",
    "    [3.6, 6.7, 5.1, 7.1, 1.4, 8.1, 0.0, 3.6],\n",
    "    [1.4, 4.0, 3.6, 3.6, 4.1, 5.1, 3.6, 0.0]\n",
    "]\n",
    "\n",
    "distance_matrix"
   ]
  },
  {
   "cell_type": "markdown",
   "id": "161b18aa",
   "metadata": {},
   "source": [
    " ### Demand and Capacity"
   ]
  },
  {
   "cell_type": "markdown",
   "id": "3b038198",
   "metadata": {},
   "source": [
    "Set up the demand for each location and the capacity for each vehicle"
   ]
  },
  {
   "cell_type": "code",
   "execution_count": null,
   "id": "9cb56810",
   "metadata": {},
   "outputs": [],
   "source": [
    "location_ids = [i+1 for i in range(len(location_names)-1)] # exclude the fulfillment center from task data\n",
    "#                  \"A\"    \"B\"    \"C\"    \"D\"     \"E\"     \"F\"     \"G\"\n",
    "location_demand = [ 4,     4,     2,     2,      1,      2,      1]\n",
    "#                    Vehicle 0     Vehicle 1     Vehicle 2\n",
    "vehicle_capacity = [    8,             8,            4     ]\n",
    "#                   Vehicle 0 loc, Vehicel 1 loc, Vehicle 2 loc\n",
    "vehicle_locs     = [  [0, 0 ],       [0, 0],        [0, 0] ]\n",
    "n_vehicles       = len(vehicle_locs)"
   ]
  },
  {
   "cell_type": "markdown",
   "id": "65ae9e05",
   "metadata": {},
   "source": [
    "# Initialize cuOpt Service Client and cuOpt Problem Data"
   ]
  },
  {
   "cell_type": "code",
   "execution_count": null,
   "id": "65505db8",
   "metadata": {
    "scrolled": true
   },
   "outputs": [],
   "source": [
    "cuopt_client_id = os.environ[\"CUOPT_CLIENT_ID\"]\n",
    "cuopt_client_secret = os.environ[\"CUOPT_CLIENT_SECRET\"]\n",
    "\n",
    "\n",
    "cuopt_service_client = CuOptServiceClient(\n",
    "    client_id=cuopt_client_id,\n",
    "    client_secret=cuopt_client_secret,\n",
    "    )\n",
    "\n",
    "cuopt_problem_data = {}"
   ]
  },
  {
   "cell_type": "markdown",
   "id": "9312c733",
   "metadata": {},
   "source": [
    "### Set Cost Matrix\n",
    "\n",
    "Dispatch cost matrix to the server"
   ]
  },
  {
   "cell_type": "code",
   "execution_count": null,
   "id": "a02105ba",
   "metadata": {},
   "outputs": [],
   "source": [
    "cuopt_problem_data[\"cost_matrix_data\"] = {\n",
    "        \"cost_matrix\": {\n",
    "            \"0\": distance_matrix\n",
    "        }\n",
    "    }"
   ]
  },
  {
   "cell_type": "markdown",
   "id": "3139d541",
   "metadata": {},
   "source": [
    "### Set Task Data\n",
    "\n",
    "Dispatch task data to the server"
   ]
  },
  {
   "cell_type": "code",
   "execution_count": null,
   "id": "2b930156",
   "metadata": {},
   "outputs": [],
   "source": [
    "cuopt_problem_data[\"task_data\"] = {\n",
    "        \"task_locations\": location_ids,\n",
    "        \"demand\": [location_demand],\n",
    "    }"
   ]
  },
  {
   "cell_type": "markdown",
   "id": "ef924325",
   "metadata": {},
   "source": [
    "### Set Vehicle Data\n",
    "\n",
    "Dispatch vehicle data to the server"
   ]
  },
  {
   "cell_type": "code",
   "execution_count": null,
   "id": "ee8859c8",
   "metadata": {},
   "outputs": [],
   "source": [
    "cuopt_problem_data[\"fleet_data\"] = {\n",
    "        \"vehicle_locations\": vehicle_locs,\n",
    "        \"capacities\": [vehicle_capacity],\n",
    "    }"
   ]
  },
  {
   "cell_type": "markdown",
   "id": "bc3d347a",
   "metadata": {},
   "source": [
    "### Set Solver Settings\n",
    "\n",
    "\n",
    "Dispatch solver settings to the server"
   ]
  },
  {
   "cell_type": "code",
   "execution_count": null,
   "id": "bd600ffa",
   "metadata": {},
   "outputs": [],
   "source": [
    "cuopt_problem_data[\"solver_config\"] = {\n",
    "        \"time_limit\": 5\n",
    "    }"
   ]
  },
  {
   "cell_type": "markdown",
   "id": "e6bf223a",
   "metadata": {},
   "source": [
    "### Get Optimized Routes"
   ]
  },
  {
   "cell_type": "code",
   "execution_count": null,
   "id": "b4141fd5",
   "metadata": {},
   "outputs": [],
   "source": [
    "# Solve the problem\n",
    "solver_response = cuopt_service_client.get_optimized_routes(\n",
    "    cuopt_problem_data\n",
    ")\n",
    "\n",
    "# Process returned data\n",
    "solver_resp = solver_response[\"response\"][\"solver_response\"]\n",
    "\n",
    "if solver_resp[\"status\"] == 0:\n",
    "    print(\"Cost for the routing in distance: \", solver_resp[\"solution_cost\"])\n",
    "    print(\"Vehicle count to complete routing: \", solver_resp[\"num_vehicles\"])\n",
    "    utils.show_vehicle_routes(solver_resp, location_names)\n",
    "else:\n",
    "    print(\"NVIDIA cuOpt Failed to find a solution with status : \", solver_resp[\"status\"])"
   ]
  },
  {
   "cell_type": "code",
   "execution_count": null,
   "id": "8618e29a",
   "metadata": {
    "scrolled": false
   },
   "outputs": [],
   "source": [
    "vehicle_colors = [\"red\", \"green\", \"blue\"]\n",
    "utils.map_vehicle_routes(location_coordinates_df, solver_resp, vehicle_colors).show()"
   ]
  },
  {
   "cell_type": "markdown",
   "id": "37ccafc5",
   "metadata": {},
   "source": [
    "### Additional Constraints \n",
    "##### Minimum Vehicles"
   ]
  },
  {
   "cell_type": "markdown",
   "id": "c560394e",
   "metadata": {},
   "source": [
    "cuOpt has found a solution that does not require all available vehicles because the combined capacity of the two larger vehicles (16) is equal to total location demand (16).  In some cases, this is a great solution as it gives the option to save on the costs associated with additional vehicles.  In other cases there is value to assigning all available resources.  In the latter case we can require that cuOpt use all 3 available vehicles and re-solve the problem with this constraint."
   ]
  },
  {
   "cell_type": "markdown",
   "id": "a646ca3a",
   "metadata": {},
   "source": [
    "**Update the existing solver configuration in server and re-optimize**"
   ]
  },
  {
   "cell_type": "code",
   "execution_count": null,
   "id": "fab4aebb",
   "metadata": {},
   "outputs": [],
   "source": [
    "# Set the minimum vehicles on the fleet data\n",
    "cuopt_problem_data[\"fleet_data\"][\"min_vehicles\"] = n_vehicles"
   ]
  },
  {
   "cell_type": "code",
   "execution_count": null,
   "id": "e7637f20",
   "metadata": {},
   "outputs": [],
   "source": [
    "# Re-Solve the problem\n",
    "solver_response = cuopt_service_client.get_optimized_routes(\n",
    "    cuopt_problem_data\n",
    ")\n",
    "\n",
    "# Process returned data\n",
    "solver_resp = solver_response[\"response\"][\"solver_response\"]\n",
    "\n",
    "if solver_resp[\"status\"] == 0:\n",
    "    print(\"Cost for the routing in distance: \", solver_resp[\"solution_cost\"])\n",
    "    print(\"Vehicle count to complete routing: \", solver_resp[\"num_vehicles\"])\n",
    "    utils.show_vehicle_routes(solver_resp, location_names)\n",
    "else:\n",
    "    print(\"NVIDIA cuOpt Failed to find a solution with status : \", solver_resp[\"status\"])"
   ]
  },
  {
   "cell_type": "code",
   "execution_count": null,
   "id": "adb83802",
   "metadata": {},
   "outputs": [],
   "source": [
    "utils.map_vehicle_routes(location_coordinates_df, solver_resp, vehicle_colors).show()"
   ]
  }
 ],
 "metadata": {
  "kernelspec": {
   "display_name": "Python 3 (ipykernel)",
   "language": "python",
   "name": "python3"
  },
  "language_info": {
   "codemirror_mode": {
    "name": "ipython",
    "version": 3
   },
   "file_extension": ".py",
   "mimetype": "text/x-python",
   "name": "python",
   "nbconvert_exporter": "python",
   "pygments_lexer": "ipython3",
   "version": "3.10.12"
  },
  "vscode": {
   "interpreter": {
    "hash": "0f29e496949dc4ef652a1afa2d601ce2913fc84758b70efb060a954cb0e2d83f"
   }
  }
 },
 "nbformat": 4,
 "nbformat_minor": 5
}
