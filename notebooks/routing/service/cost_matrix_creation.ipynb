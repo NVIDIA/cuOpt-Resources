{
 "cells": [
  {
   "cell_type": "code",
   "execution_count": null,
   "id": "dfba40d6",
   "metadata": {},
   "outputs": [],
   "source": [
    "from scipy.spatial import distance\n",
    "import numpy as np\n",
    "import pandas as pd\n",
    "import requests\n",
    "import polyline\n",
    "import folium\n",
    "import json"
   ]
  },
  {
   "cell_type": "markdown",
   "id": "cd4716e9",
   "metadata": {},
   "source": [
    "# Cost Matrix or Waypoint Graph"
   ]
  },
  {
   "cell_type": "markdown",
   "id": "bdff7c68",
   "metadata": {},
   "source": [
    "### Introduction\n",
    "The cost matrix and the waypoint graph are two environment representations for the NVIDIA cuOpt Managed Service. Each one encapsulates user-defined costs of transitioning from one state or location to another within an optimization problem. cuOpt uses this environment representation to evaluate solution quality while minimizing the total cost.\n",
    "\n",
    "### Deciding Between a Cost Matrix and a Waypoint Graph\n",
    "The selection hinges on your data availability and use case specifics.\n",
    "\n",
    "- **Cost Matrices :** Choose a cost matrix when your primary focus is the cost between target locations, such as orders, jobs, or vehicles. This method is common in applications reliant on map data, where cost values between required points is either known or easily calculated.\n",
    "\n",
    "- **Waypoint Graph :** Choose a waypoint graph when your data is portrayed as a network where a subset of nodes represent target locations and others are only being traversed (not acted upon by vehicles or agents, and lack associated orders or jobs). This approach is common in custom environments and indoor locations like warehouses and factories where the cost between target locations is dynamic or not easily calculated."
   ]
  },
  {
   "cell_type": "markdown",
   "id": "97a6310a",
   "metadata": {},
   "source": [
    "# Cost Matrix"
   ]
  },
  {
   "cell_type": "markdown",
   "id": "4cfdb661",
   "metadata": {},
   "source": [
    "A cost matrix is a two-dimensional array, where each cell represents the cost or distance between two points. The matrix's rows and columns correspond to different nodes in the routing problem, with each entry showing the cost of transitioning from one point to another. The \"cost\" can encapsulate a range of metrics, from monetary values to distance, time, or energy. This matrix serves an important function allowing cuOpt to compute the optimal route (minimize the total cost)."
   ]
  },
  {
   "cell_type": "markdown",
   "id": "991cad72",
   "metadata": {},
   "source": [
    "<img src=\"./notebook_utils/images/cost_matrix.png\" alt=\"cost_matrix.png not found]\" width=\"750\"/>"
   ]
  },
  {
   "cell_type": "markdown",
   "id": "ed85b5b1",
   "metadata": {},
   "source": [
    "**Additional Notes:**\n",
    "- The cost of going from a location to itself (Cost(A,A)) is typically 0 \n",
    "- Cost(A,B) need not be equal to Cost(B,A).  Asymmetric matrices are allowed."
   ]
  },
  {
   "cell_type": "markdown",
   "id": "2fe0488b",
   "metadata": {},
   "source": [
    "### Simple Cost Matrix"
   ]
  },
  {
   "cell_type": "markdown",
   "id": "667af128",
   "metadata": {},
   "source": [
    "In some simple cases a cost matrix can be computed directly via a user defined metric (e.g. Euclidean, Manhattan, or something more complicated).  Here we show a simple example of cost matrix generation leveraging Euclidean distance from a point list."
   ]
  },
  {
   "cell_type": "code",
   "execution_count": null,
   "id": "01c4a7de",
   "metadata": {},
   "outputs": [],
   "source": [
    "points = pd.DataFrame({\"x_coord\": [1, 1, 2, 3], \"y_coord\":[3, 1, 4, 1]})\n",
    "points"
   ]
  },
  {
   "cell_type": "code",
   "execution_count": null,
   "id": "b52d43bb",
   "metadata": {},
   "outputs": [],
   "source": [
    "cost_matrix = distance.cdist(points.values, points.values, \"euclidean\")\n",
    "print(f\"Simple Metric Cost Matrix:\\n\\n{cost_matrix}\")"
   ]
  },
  {
   "cell_type": "markdown",
   "id": "8e50b492",
   "metadata": {},
   "source": [
    "### Map Based Cost Matrix"
   ]
  },
  {
   "cell_type": "markdown",
   "id": "9008cad2",
   "metadata": {},
   "source": [
    "When dealing with problems in shipping and logistics, road distance and/or time is often used as a cost metric.  In these cases there are a number of tools available to calculate drive distance and/or time.  One such tool is the [Open Source Routing Machine](http://project-osrm.org/)(OSRM).  In the below example we create a cost matrix using OSRM from a list of lat/lon coordinates."
   ]
  },
  {
   "cell_type": "markdown",
   "id": "080e1a8b",
   "metadata": {},
   "source": [
    "#### Define Points of Interest"
   ]
  },
  {
   "cell_type": "code",
   "execution_count": null,
   "id": "9e404417",
   "metadata": {},
   "outputs": [],
   "source": [
    "lat_lon_coords = [\n",
    "    [48.137467, 11.622837],\n",
    "    [48.137626, 11.601777], \n",
    "    [48.150541, 11.618471], \n",
    "    [48.131611, 11.638083]\n",
    "] "
   ]
  },
  {
   "cell_type": "markdown",
   "id": "d9815e85",
   "metadata": {},
   "source": [
    "#### Create Distance Matrix via OSRM"
   ]
  },
  {
   "cell_type": "code",
   "execution_count": null,
   "id": "651405d7",
   "metadata": {},
   "outputs": [],
   "source": [
    "locations=\"\"\n",
    "for loc in lat_lon_coords:\n",
    "    locations = locations + \"{},{};\".format(loc[1], loc[0])\n",
    "r = requests.get(\"http://router.project-osrm.org/table/v1/driving/\"+ locations[:-1])\n",
    "\n",
    "routes = json.loads(r.content)\n",
    "cols = [str(i) for i in lat_lon_coords]\n",
    "cost_matrix = pd.DataFrame(routes['durations'], columns = cols, index= cols)\n",
    "print(f\"Cost Matrix via OSRM:\\n\")\n",
    "cost_matrix"
   ]
  },
  {
   "cell_type": "markdown",
   "id": "1bdc2283",
   "metadata": {},
   "source": [
    "#### Map Visualization"
   ]
  },
  {
   "cell_type": "markdown",
   "id": "40087e06",
   "metadata": {},
   "source": [
    "Visualization can be a helpful tool for understanding and communication. Here we demonstrate one method for visualizing (map based) locations and the path between them.  This example shows all paths dictated by the above cost matrix.  A similar approach can be taken to show the optimized routes generated by cuOpt."
   ]
  },
  {
   "cell_type": "code",
   "execution_count": null,
   "id": "5ae2a01a",
   "metadata": {},
   "outputs": [],
   "source": [
    "def get_map(my_lat_longs):\n",
    "    m = folium.Map(location=[48.137467, 11.622837],\n",
    "                   zoom_start=13)\n",
    "    folium.Marker(\n",
    "        location=[my_lat_longs[0][0],my_lat_longs[0][1]] ,\n",
    "        icon=folium.Icon(icon='play', color='red')\n",
    "    ).add_to(m)\n",
    "    for loc in my_lat_longs[1:]:\n",
    "        folium.Marker(\n",
    "            location=[loc[0], loc[1]],\n",
    "            icon=folium.Icon(icon='stop', color='green')\n",
    "        ).add_to(m)\n",
    "            \n",
    "    for src_idx in range(len(lat_lon_coords)):\n",
    "        for dst_idx in range(len(lat_lon_coords)):\n",
    "            if src_idx == dst_idx:\n",
    "                break\n",
    "            source = lat_lon_coords[src_idx]\n",
    "            destination = lat_lon_coords[dst_idx]\n",
    "            loc = \"{},{};{},{}\".format(source[1], source[0], destination[1], destination[0])\n",
    "            url = \"http://router.project-osrm.org/route/v1/driving/\"\n",
    "            r = requests.get(url + loc) \n",
    "\n",
    "            res = r.json()   \n",
    "            routes = polyline.decode(res['routes'][0]['geometry'])\n",
    "\n",
    "            folium.PolyLine(\n",
    "                routes,\n",
    "                weight=5,\n",
    "                color='blue',\n",
    "                opacity=0.6\n",
    "            ).add_to(m)\n",
    "\n",
    "    return m\n",
    "get_map(lat_lon_coords)"
   ]
  },
  {
   "cell_type": "markdown",
   "id": "eb39ea0f",
   "metadata": {},
   "source": [
    "# Waypoint Graph"
   ]
  },
  {
   "cell_type": "markdown",
   "id": "a72d76a3",
   "metadata": {},
   "source": [
    "In unique environments like factories or warehouses, where the cost between target locations can be dynamic or challenging to compute, a waypoint graph proves beneficial. This graph outlines the travel cost between adjacent, reachable points.\n",
    "\n",
    "The cuOpt managed service can handle such graphs, accepting them in CSR (Compressed Sparse Row) format. Take, for example, the graph below which has 10 waypoints, but only four (0, 4, 5, and 6) are classified as target locations.\n",
    "\n",
    "When you submit this graph, along with associated vehicle and order information to cuOpt, the service calculates the appropriate internal cost matrix (which is based on the inferred target locations). It then performs the necessary operations and returns results at the waypoint level, matching the structure of the input graph."
   ]
  },
  {
   "cell_type": "markdown",
   "id": "d8afe1d6",
   "metadata": {},
   "source": [
    "<img src=\"./notebook_utils/images/waypoint_graph.png\" alt=\"waypoint_graph.png not found]\" width=\"550\"/>"
   ]
  },
  {
   "cell_type": "markdown",
   "id": "fadc253b",
   "metadata": {},
   "source": [
    "#### Graph Conversion\n",
    "In the example below we demonstrate the conversion from a typical graph representation to the required CSR format."
   ]
  },
  {
   "cell_type": "code",
   "execution_count": null,
   "id": "f8bf07e3",
   "metadata": {},
   "outputs": [],
   "source": [
    "graph = {\n",
    "    0:{\n",
    "        \"edges\":[2], \n",
    "        \"weights\":[2]},\n",
    "    1:{\n",
    "        \"edges\":[2, 4], \n",
    "        \"weights\":[2, 2]},\n",
    "    2:{\n",
    "        \"edges\":[0, 1, 3, 5], \n",
    "        \"weights\":[2, 2, 2, 2]},\n",
    "    3:{\n",
    "        \"edges\":[2, 6], \n",
    "        \"weights\":[2, 2]},\n",
    "    4:{\n",
    "        \"edges\":[1, 7], \n",
    "        \"weights\":[2, 1]},\n",
    "    5:{\n",
    "        \"edges\":[2, 8], \n",
    "        \"weights\":[2, 1]},\n",
    "    6:{\n",
    "        \"edges\":[3, 9], \n",
    "        \"weights\":[2, 1]},\n",
    "    7:{\n",
    "        \"edges\":[4, 8], \n",
    "        \"weights\":[1, 2]},\n",
    "    8:{\n",
    "        \"edges\":[5, 7, 9], \n",
    "        \"weights\":[1, 2, 2]},\n",
    "    9:{\n",
    "        \"edges\":[6, 8], \n",
    "        \"weights\":[1, 2]}\n",
    "}"
   ]
  },
  {
   "cell_type": "markdown",
   "id": "54d51f36",
   "metadata": {},
   "source": [
    "#### Convert to CSR\n",
    "Here we define a simple function that converts our graph to CSR."
   ]
  },
  {
   "cell_type": "code",
   "execution_count": null,
   "id": "ace5c271",
   "metadata": {},
   "outputs": [],
   "source": [
    "def convert_to_csr(graph):\n",
    "    num_nodes = len(graph)\n",
    "    \n",
    "    offsets = []\n",
    "    edges = []\n",
    "    weights = []\n",
    "    \n",
    "    cur_offset = 0\n",
    "    for node in range(num_nodes):\n",
    "        offsets.append(cur_offset)\n",
    "        cur_offset += len(graph[node][\"edges\"])\n",
    "        \n",
    "        edges = edges + graph[node][\"edges\"]\n",
    "        weights = weights + graph[node][\"weights\"]\n",
    "        \n",
    "    offsets.append(cur_offset)\n",
    "    \n",
    "    return np.array(offsets), np.array(edges), np.array(weights)"
   ]
  },
  {
   "cell_type": "code",
   "execution_count": null,
   "id": "fed80f3a",
   "metadata": {},
   "outputs": [],
   "source": [
    "offsets, edges, weights = convert_to_csr(graph)\n",
    "print(f\"offsets = {list(offsets)}\")\n",
    "print(f\"edges   = {list(edges)}\")\n",
    "print(f\"weights = {list(weights)}\")"
   ]
  },
  {
   "cell_type": "markdown",
   "id": "afa360cd",
   "metadata": {},
   "source": [
    "# Using the Environment Descirption"
   ]
  },
  {
   "cell_type": "markdown",
   "id": "811a48fb",
   "metadata": {},
   "source": [
    "Whether you are employing a cost matrix or a waypoint graph in your use case, the environment description will be included in the JSON payload that is passed to the managed service. For an example implementation of each approach, please refer to the other example notebooks in the repository."
   ]
  }
 ],
 "metadata": {
  "kernelspec": {
   "display_name": "Python 3 (ipykernel)",
   "language": "python",
   "name": "python3"
  },
  "language_info": {
   "codemirror_mode": {
    "name": "ipython",
    "version": 3
   },
   "file_extension": ".py",
   "mimetype": "text/x-python",
   "name": "python",
   "nbconvert_exporter": "python",
   "pygments_lexer": "ipython3",
   "version": "3.10.11"
  },
  "vscode": {
   "interpreter": {
    "hash": "0f29e496949dc4ef652a1afa2d601ce2913fc84758b70efb060a954cb0e2d83f"
   }
  }
 },
 "nbformat": 4,
 "nbformat_minor": 5
}
