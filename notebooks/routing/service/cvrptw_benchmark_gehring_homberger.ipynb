{
 "cells": [
  {
   "cell_type": "markdown",
   "id": "a05e01aa",
   "metadata": {},
   "source": [
    "<details><summary> </summary>\n",
    "\n",
    "# Skip notebook test\n",
    "\n",
    "</details>"
   ]
  },
  {
   "cell_type": "code",
   "execution_count": null,
   "id": "afc57ab3",
   "metadata": {},
   "outputs": [],
   "source": [
    "import os\n",
    "import numpy as np\n",
    "import pandas as pd\n",
    "from scipy.spatial import distance\n",
    "import notebook_utils.notebook_helpers as utils\n",
    "from cuopt_thin_client import CuOptServiceClient"
   ]
  },
  {
   "cell_type": "markdown",
   "id": "0d500386",
   "metadata": {},
   "source": [
    "# Benchmark Gehring & Homberger\n",
    "## Capacitated Vehicle Routing Problem with Time Windows (CVRPTW)"
   ]
  },
  {
   "cell_type": "markdown",
   "id": "30e63d74",
   "metadata": {},
   "source": [
    "While other notebooks such as [cvrptw_service_team_routing.ipynb](cvrptw_service_team_routing.ipynb) focus on the cuOpt API and high level problem modeling, here we focus on performance.\n",
    "\n",
    "cuOpt offers a unique benefit over other solver_settingss, specifically, time to solution.  In addition to achieving world class accuracy, cuOpt also produces these solutions in a time frame that allows for re-optimization in dynamic environments and rapid iteration over possible problem configurations.\n",
    "\n",
    "Here we are demonstrating this performance on a large popular academic [dataset by Gehing & Homberger](https://www.sintef.no/projectweb/top/vrptw/homberger-benchmark/).  These problems are well studied and used as the basis for comparison for VRP research and product offerings. The particular instance we will test with is from the group of largest (1000 location) problems.  Each problem instance has an associated best known solution, the one we will measure against is shown below\n",
    "\n",
    "**API Reference**: [cuOpt Server Documentation](https://docs.nvidia.com/cuopt/serv_api.html)"
   ]
  },
  {
   "cell_type": "code",
   "execution_count": null,
   "id": "65860d5d",
   "metadata": {},
   "outputs": [],
   "source": [
    "homberger_1000_file = 'notebook_utils/data/C1_10_1.TXT'\n",
    "\n",
    "best_known_solution = {\n",
    "    \"n_vehicles\": 100,\n",
    "    \"cost\": 42478.95\n",
    "}"
   ]
  },
  {
   "cell_type": "markdown",
   "id": "af25d3f9",
   "metadata": {},
   "source": [
    "### Problem Data\n",
    "The data for this problem instance are provided via text file.  cuOpt has a utility function available specifically for the Gehring & Homberger benchmark which converts the problem into the components required by cuOpt."
   ]
  },
  {
   "cell_type": "code",
   "execution_count": null,
   "id": "fd6089b5",
   "metadata": {},
   "outputs": [],
   "source": [
    "orders, vehicle_capacity, n_vehicles = utils.create_from_file(homberger_1000_file)\n",
    "n_locations = orders[\"demand\"].shape[0]-1\n",
    "print(\"Number of locations          : \", n_locations)\n",
    "print(\"Number of vehicles available : \", n_vehicles)\n",
    "print(\"Capacity of each vehicle     : \", vehicle_capacity)\n",
    "print(\"\\nInitial Orders information\")\n",
    "print(orders)"
   ]
  },
  {
   "cell_type": "markdown",
   "id": "4890f027",
   "metadata": {},
   "source": [
    "# Initialize cuOpt Service Client and cuOpt Problem Data"
   ]
  },
  {
   "cell_type": "code",
   "execution_count": null,
   "id": "d57690c9",
   "metadata": {},
   "outputs": [],
   "source": [
    "cuopt_client_id = os.environ[\"CUOPT_CLIENT_ID\"]\n",
    "cuopt_client_secret = os.environ[\"CUOPT_CLIENT_SECRET\"]\n",
    "\n",
    "\n",
    "cuopt_service_client = CuOptServiceClient(\n",
    "    client_id=cuopt_client_id,\n",
    "    client_secret=cuopt_client_secret,\n",
    "    )\n",
    "\n",
    "cuopt_problem_data = {}"
   ]
  },
  {
   "cell_type": "markdown",
   "id": "ba4eb34d",
   "metadata": {},
   "source": [
    "### Cost Matrix"
   ]
  },
  {
   "cell_type": "code",
   "execution_count": null,
   "id": "0cc3ced9",
   "metadata": {
    "scrolled": false
   },
   "outputs": [],
   "source": [
    "coords = list(zip(orders['xcord'].to_list(),\n",
    "                  orders['ycord'].to_list()))\n",
    "\n",
    "cost_matrix = pd.DataFrame(distance.cdist(coords, coords, 'euclidean')).astype(np.float32).values.tolist()"
   ]
  },
  {
   "cell_type": "markdown",
   "id": "c938e463",
   "metadata": {},
   "source": [
    "### Set Cost Matrix"
   ]
  },
  {
   "cell_type": "code",
   "execution_count": null,
   "id": "8493081f",
   "metadata": {},
   "outputs": [],
   "source": [
    "cuopt_problem_data[\"cost_matrix_data\"] = {\n",
    "        \"cost_matrix\": {\n",
    "            \"0\": cost_matrix\n",
    "        }\n",
    "    }"
   ]
  },
  {
   "cell_type": "markdown",
   "id": "9ad17098",
   "metadata": {},
   "source": [
    "### Set Fleet Data"
   ]
  },
  {
   "cell_type": "code",
   "execution_count": null,
   "id": "45f8aa47",
   "metadata": {},
   "outputs": [],
   "source": [
    "vehicle_locations = [[0, 0]] * n_vehicles\n",
    "\n",
    "cuopt_problem_data[\"fleet_data\"] = {\n",
    "        \"vehicle_locations\": vehicle_locations,\n",
    "        \"capacities\": [[vehicle_capacity] * n_vehicles]\n",
    "}"
   ]
  },
  {
   "cell_type": "markdown",
   "id": "800db055",
   "metadata": {},
   "source": [
    "### Set Task Data"
   ]
  },
  {
   "cell_type": "code",
   "execution_count": null,
   "id": "638df884",
   "metadata": {},
   "outputs": [],
   "source": [
    "cuopt_problem_data[\"task_data\"] = {\n",
    "        \"task_locations\": orders['vertex'].values.tolist(),\n",
    "        \"demand\": [orders['demand'].values.tolist()],\n",
    "        \"task_time_windows\": [list(i) for i in list(zip(orders['earliest_time'].values.tolist(),\n",
    "                                                        orders['latest_time'].values.tolist()))],\n",
    "        \"service_times\": orders['service_time'].values.tolist()\n",
    "}"
   ]
  },
  {
   "cell_type": "markdown",
   "id": "8944c315",
   "metadata": {},
   "source": [
    "### Helper functions to solve and process the output"
   ]
  },
  {
   "cell_type": "code",
   "execution_count": null,
   "id": "5382727c",
   "metadata": {},
   "outputs": [],
   "source": [
    "def solution_eval(vehicles, cost, best_known_solution):\n",
    "    \n",
    "    print(f\"- cuOpt provides a solution using {vehicles} vehicles\")\n",
    "    print(f\"- This represents {vehicles - best_known_solution['n_vehicles']} more than the best known solution\")\n",
    "    print(f\"- Vehicle Percent Difference {(vehicles/best_known_solution['n_vehicles'] - 1)*100}% \\n\\n\")\n",
    "    print(f\"- In addition cuOpt provides a solution cost of {cost}\") \n",
    "    print(f\"- Best known solution cost is {best_known_solution['cost']}\")\n",
    "    print(f\"- Cost Percent Difference {(cost/best_known_solution['cost'] - 1)*100}%\")"
   ]
  },
  {
   "cell_type": "markdown",
   "id": "24afe2f5",
   "metadata": {},
   "source": [
    "### Get Optimized Results\n",
    "\n",
    "Update solver config and test different run-time "
   ]
  },
  {
   "cell_type": "markdown",
   "id": "0941d56f",
   "metadata": {},
   "source": [
    "**1 Second Time Limit**\n",
    "\n",
    "Note : due to the large amount of data network transfer time can exceed the requested solve time."
   ]
  },
  {
   "cell_type": "code",
   "execution_count": null,
   "id": "70f12ffa",
   "metadata": {},
   "outputs": [],
   "source": [
    "cuopt_problem_data[\"solver_config\"] = {\n",
    "        \"time_limit\": 5\n",
    "    }\n",
    "\n",
    "# Solve the problem\n",
    "solver_response = cuopt_service_client.get_optimized_routes(\n",
    "    cuopt_problem_data\n",
    ")\n",
    "\n",
    "# Process returned data\n",
    "solver_resp = solver_response[\"response\"][\"solver_response\"]"
   ]
  },
  {
   "cell_type": "code",
   "execution_count": null,
   "id": "a2453b1b",
   "metadata": {},
   "outputs": [],
   "source": [
    "# Evaluation:\n",
    "solution_eval(solver_resp[\"num_vehicles\"], solver_resp[\"solution_cost\"], best_known_solution)"
   ]
  },
  {
   "cell_type": "markdown",
   "id": "04ef0c21",
   "metadata": {},
   "source": [
    "**10 Second Time Limit**"
   ]
  },
  {
   "cell_type": "code",
   "execution_count": null,
   "id": "3934d8de",
   "metadata": {},
   "outputs": [],
   "source": [
    "cuopt_problem_data[\"solver_config\"] = {\n",
    "        \"time_limit\": 10.0\n",
    "    }\n",
    "\n",
    "# Solve the problem\n",
    "solver_response = cuopt_service_client.get_optimized_routes(\n",
    "    cuopt_problem_data\n",
    ")\n",
    "\n",
    "# Process returned data\n",
    "solver_resp = solver_response[\"response\"][\"solver_response\"]"
   ]
  },
  {
   "cell_type": "code",
   "execution_count": null,
   "id": "7ab5e6d1",
   "metadata": {},
   "outputs": [],
   "source": [
    "# Evaluation:\n",
    "solution_eval(solver_resp[\"num_vehicles\"], solver_resp[\"solution_cost\"], best_known_solution)"
   ]
  },
  {
   "cell_type": "markdown",
   "id": "a9a1b855",
   "metadata": {},
   "source": [
    "**20 Second Time Limit**"
   ]
  },
  {
   "cell_type": "code",
   "execution_count": null,
   "id": "e0c38643",
   "metadata": {},
   "outputs": [],
   "source": [
    "cuopt_problem_data[\"solver_config\"] = {\n",
    "        \"time_limit\": 20.0\n",
    "    }\n",
    "\n",
    "# Solve the problem\n",
    "solver_response = cuopt_service_client.get_optimized_routes(\n",
    "    cuopt_problem_data\n",
    ")\n",
    "\n",
    "# Process returned data\n",
    "solver_resp = solver_response[\"response\"][\"solver_response\"]"
   ]
  },
  {
   "cell_type": "code",
   "execution_count": null,
   "id": "ff80118b",
   "metadata": {},
   "outputs": [],
   "source": [
    "# Evaluation:\n",
    "solution_eval(solver_resp[\"num_vehicles\"], solver_resp[\"solution_cost\"], best_known_solution)"
   ]
  }
 ],
 "metadata": {
  "kernelspec": {
   "display_name": "Python 3 (ipykernel)",
   "language": "python",
   "name": "python3"
  },
  "language_info": {
   "codemirror_mode": {
    "name": "ipython",
    "version": 3
   },
   "file_extension": ".py",
   "mimetype": "text/x-python",
   "name": "python",
   "nbconvert_exporter": "python",
   "pygments_lexer": "ipython3",
   "version": "3.10.12"
  },
  "vscode": {
   "interpreter": {
    "hash": "0f29e496949dc4ef652a1afa2d601ce2913fc84758b70efb060a954cb0e2d83f"
   }
  }
 },
 "nbformat": 4,
 "nbformat_minor": 5
}
